{
 "cells": [
  {
   "cell_type": "markdown",
   "metadata": {},
   "source": [
    "# Price Sentry Testing\n"
   ]
  },
  {
   "cell_type": "code",
   "execution_count": 1,
   "metadata": {},
   "outputs": [],
   "source": [
    "import requests\n",
    "\n",
    "URL = \"http://127.0.0.1:8000\"\n",
    "USER_EMAIL = \"youremail@gmail.com\""
   ]
  },
  {
   "cell_type": "markdown",
   "metadata": {},
   "source": [
    "## Sign In\n"
   ]
  },
  {
   "cell_type": "markdown",
   "metadata": {},
   "source": [
    "### Sign In OTP\n"
   ]
  },
  {
   "cell_type": "code",
   "execution_count": 31,
   "metadata": {},
   "outputs": [],
   "source": [
    "res = requests.post(url=URL + \"/user/sign_in_otp\", json={\"email\": USER_EMAIL})\n",
    "session_id = res.json()[\"session_id\"]"
   ]
  },
  {
   "cell_type": "markdown",
   "metadata": {},
   "source": [
    "### Confirm OTP\n"
   ]
  },
  {
   "cell_type": "code",
   "execution_count": 32,
   "metadata": {},
   "outputs": [],
   "source": [
    "# otp_code = \"ENTER THE OTP CODE HERE\"  # You can find it in your backend terminal output\n",
    "otp_code = \"77058\"\n",
    "res = requests.post(\n",
    "    url=URL + \"/user/confirm_otp\", json={\"session_id\": session_id, \"otp_code\": otp_code}\n",
    ")\n",
    "jwt_token = res.json()[\"token\"]\n",
    "headers = {\"Authorization\": f\"Bearer {jwt_token}\"}"
   ]
  },
  {
   "cell_type": "markdown",
   "metadata": {},
   "source": [
    "### Testing the health of the backend system\n"
   ]
  },
  {
   "cell_type": "code",
   "execution_count": 33,
   "metadata": {},
   "outputs": [
    {
     "name": "stdout",
     "output_type": "stream",
     "text": [
      "\"Price Sentry is up and running.\"\n"
     ]
    }
   ],
   "source": [
    "res = requests.get(url=URL + \"/health\", headers=headers)\n",
    "print(res.text)\n",
    "# It should print \"Price Sentry is up and running\""
   ]
  },
  {
   "cell_type": "markdown",
   "metadata": {},
   "source": [
    "## User Info\n"
   ]
  },
  {
   "cell_type": "markdown",
   "metadata": {},
   "source": [
    "### Get User Info\n"
   ]
  },
  {
   "cell_type": "code",
   "execution_count": 34,
   "metadata": {},
   "outputs": [
    {
     "name": "stdout",
     "output_type": "stream",
     "text": [
      "{'id': 'bb04ea163dee20cb762c4a911b87576e4837e95f0b19d205a3018a5e65a1f6af', 'email': 'youremail@gmail.com', 'first_name': None, 'last_name': None}\n"
     ]
    }
   ],
   "source": [
    "res = requests.get(url=URL + \"/user/info\", headers=headers)\n",
    "print(res.json())"
   ]
  },
  {
   "cell_type": "markdown",
   "metadata": {},
   "source": [
    "### Update User Info\n"
   ]
  },
  {
   "cell_type": "code",
   "execution_count": 35,
   "metadata": {},
   "outputs": [
    {
     "name": "stdout",
     "output_type": "stream",
     "text": [
      "{'status': 'success', 'detail': 'Successfully updated user info'}\n",
      "{'id': 'bb04ea163dee20cb762c4a911b87576e4837e95f0b19d205a3018a5e65a1f6af', 'email': 'youremail@gmail.com', 'first_name': 'John', 'last_name': 'Doe'}\n"
     ]
    }
   ],
   "source": [
    "res = requests.post(\n",
    "    url=URL + \"/user/info\",\n",
    "    json={\"first_name\": \"John\", \"last_name\": \"Doe\"},\n",
    "    headers=headers,\n",
    ")\n",
    "print(res.json())\n",
    "\n",
    "res = requests.get(url=URL + \"/user/info\", headers=headers)\n",
    "print(res.json())"
   ]
  },
  {
   "cell_type": "markdown",
   "metadata": {},
   "source": [
    "### Delete User Account\n"
   ]
  },
  {
   "cell_type": "code",
   "execution_count": 28,
   "metadata": {},
   "outputs": [
    {
     "name": "stdout",
     "output_type": "stream",
     "text": [
      "{'status': 'success', 'detail': 'Successfully deleted user with isbb04ea163dee20cb762c4a911b87576e4837e95f0b19d205a3018a5e65a1f6af'}\n"
     ]
    }
   ],
   "source": [
    "res = requests.delete(url=URL + \"/user/info\", headers=headers)\n",
    "print(res.json())"
   ]
  },
  {
   "cell_type": "markdown",
   "metadata": {},
   "source": [
    "## Subscription\n"
   ]
  },
  {
   "cell_type": "markdown",
   "metadata": {},
   "source": [
    "### Search Products\n"
   ]
  },
  {
   "cell_type": "code",
   "execution_count": 37,
   "metadata": {},
   "outputs": [
    {
     "name": "stdout",
     "output_type": "stream",
     "text": [
      "[{'title': 'Sony WH-1000XM4 Wireless Premium Noise Canceling Overhead Headphones with Mic for Phone-Call and Alexa Voice Control, Black WH1000XM4', 'vendor': 1, 'link': 'https://www.amazon.com/Sony-WH-1000XM4-Canceling-Headphones-phone-call/dp/B0863TXGM3/ref=sr_1_1?dib=eyJ2IjoiMSJ9.DrMhtLFqTHnR7mF34njuq-V9r4Lb-GICwbgWTGUSeUClqR1m1Uaxepu24uhU6UPK-q6ZqhBrKlVG5zilS9uXeGsIkxpVERoAtmID9NCe7wMbKRQVV0_nmOD0UZpqPfb9ZckvvIZ7mA7KbtxbKYaZC_k44iQFmWHpH7aF-lOJDS_uex90JQc8fMO-DQ_JiaEFr3QKe6hEdFxgo3-nKZotJtpRxxjh-af30tBMmbE_ENU.l2KnwwulXtRTlIKTxpYBdszEVrs2OyxdH-TrWPOOKaU&dib_tag=se&keywords=sony+xm&qid=1722542672&sr=8-1', 'link_id': '0ef672729ec76ea4a0cf076bfd1feafae7bbb7a6e7f300292e731979cba36116', 'img_src': 'https://m.media-amazon.com/images/I/51DkbWZIg+L._AC_UY218_.jpg', 'price': 348.0}, {'title': 'Sony WH-1000XM5 The Best Wireless Noise Canceling Headphones with Auto Noise Canceling Optimizer, Crystal Clear Hands-Free Calling, and Alexa Voice Control, Black', 'vendor': 1, 'link': 'https://www.amazon.com/Sony-WH-1000XM5-Canceling-Headphones-Hands-Free/dp/B09XS7JWHH/ref=sr_1_2?dib=eyJ2IjoiMSJ9.DrMhtLFqTHnR7mF34njuq-V9r4Lb-GICwbgWTGUSeUClqR1m1Uaxepu24uhU6UPK-q6ZqhBrKlVG5zilS9uXeGsIkxpVERoAtmID9NCe7wMbKRQVV0_nmOD0UZpqPfb9ZckvvIZ7mA7KbtxbKYaZC_k44iQFmWHpH7aF-lOJDS_uex90JQc8fMO-DQ_JiaEFr3QKe6hEdFxgo3-nKZotJtpRxxjh-af30tBMmbE_ENU.l2KnwwulXtRTlIKTxpYBdszEVrs2OyxdH-TrWPOOKaU&dib_tag=se&keywords=sony+xm&qid=1722542672&sr=8-2', 'link_id': '539bf78c8b6e755672dd318ba03fd075e4a97d8a21f6832db06270bb03db2c8e', 'img_src': 'https://m.media-amazon.com/images/I/61vJtKbAssL._AC_UY218_.jpg', 'price': 398.0}]\n"
     ]
    }
   ],
   "source": [
    "res = requests.get(\n",
    "    url=URL + \"/sub/search\",\n",
    "    params={\"kw\": \"sony xm\", \"vendor\": \"amazon\", \"include\": \"xm\"},\n",
    "    headers=headers,\n",
    ")\n",
    "\n",
    "print(res.json())"
   ]
  },
  {
   "cell_type": "markdown",
   "metadata": {},
   "source": [
    "### Subscribe To A Product\n"
   ]
  },
  {
   "cell_type": "code",
   "execution_count": 38,
   "metadata": {},
   "outputs": [
    {
     "name": "stdout",
     "output_type": "stream",
     "text": [
      "{'status': 'success', 'detail': 'You have successfully subscribed to this product'}\n"
     ]
    }
   ],
   "source": [
    "res = requests.post(\n",
    "    url=URL + \"/sub/product\",\n",
    "    json={\n",
    "        \"title\": \"Sony WH-1000XM4 Wireless Premium Noise Canceling Overhead Headphones with Mic for Phone-Call and Alexa Voice Control, Black WH1000XM4\",\n",
    "        \"vendor\": 1,\n",
    "        \"link\": \"https://www.amazon.com/Sony-WH-1000XM4-Canceling-Headphones-phone-call/dp/B0863TXGM3/ref=sr_1_1?dib=eyJ2IjoiMSJ9.DrMhtLFqTHnR7mF34njuq-V9r4Lb-GICwbgWTGUSeUClqR1m1Uaxepu24uhU6UPK-q6ZqhBrKlVG5zilS9uXeGsIkxpVERoAtmID9NCe7wMbKRQVV0_nmOD0UZpqPfb9ZckvvIZ7mA7KbtxbKYaZC_k44iQFmWHpH7aF-lOJDS_uex90JQc8fMO-DQ_JiaEFr3QKe6hEdFxgo3-nKZotJtpRxxjh-af30tBMmbE_ENU.l2KnwwulXtRTlIKTxpYBdszEVrs2OyxdH-TrWPOOKaU&dib_tag=se&keywords=sony+xm&qid=1722542672&sr=8-1\",\n",
    "        \"link_id\": \"0ef672729ec76ea4a0cf076bfd1feafae7bbb7a6e7f300292e731979cba36116\",\n",
    "        \"img_src\": \"https://m.media-amazon.com/images/I/51DkbWZIg+L._AC_UY218_.jpg\",\n",
    "        \"price\": 348.0,\n",
    "    },\n",
    "    headers=headers,\n",
    ")\n",
    "print(res.json())"
   ]
  },
  {
   "cell_type": "markdown",
   "metadata": {},
   "source": [
    "### Get All The Products You Subscribed\n"
   ]
  },
  {
   "cell_type": "code",
   "execution_count": 43,
   "metadata": {},
   "outputs": [
    {
     "name": "stdout",
     "output_type": "stream",
     "text": [
      "[{'link_id': '0ef672729ec76ea4a0cf076bfd1feafae7bbb7a6e7f300292e731979cba36116', 'title': 'Sony WH-1000XM4 Wireless Premium Noise Canceling Overhead Headphones with Mic for Phone-Call and Alexa Voice Control, Black WH1000XM4', 'price': 348.0, 'img_src': 'https://m.media-amazon.com/images/I/51DkbWZIg+L._AC_UY218_.jpg', 'vendor': 1, 'link': 'https://www.amazon.com/Sony-WH-1000XM4-Canceling-Headphones-phone-call/dp/B0863TXGM3/ref=sr_1_1?dib=eyJ2IjoiMSJ9.DrMhtLFqTHnR7mF34njuq-V9r4Lb-GICwbgWTGUSeUClqR1m1Uaxepu24uhU6UPK-q6ZqhBrKlVG5zilS9uXeGsIkxpVERoAtmID9NCe7wMbKRQVV0_nmOD0UZpqPfb9ZckvvIZ7mA7KbtxbKYaZC_k44iQFmWHpH7aF-lOJDS_uex90JQc8fMO-DQ_JiaEFr3QKe6hEdFxgo3-nKZotJtpRxxjh-af30tBMmbE_ENU.l2KnwwulXtRTlIKTxpYBdszEVrs2OyxdH-TrWPOOKaU&dib_tag=se&keywords=sony+xm&qid=1722542672&sr=8-1'}]\n"
     ]
    }
   ],
   "source": [
    "res = requests.get(url=URL + \"/sub/products\", headers=headers)\n",
    "print(res.json())\n",
    "link_id = res.json()[0][\"link_id\"]"
   ]
  },
  {
   "cell_type": "markdown",
   "metadata": {},
   "source": [
    "### Unsubscribe A Product\n"
   ]
  },
  {
   "cell_type": "code",
   "execution_count": 44,
   "metadata": {},
   "outputs": [
    {
     "name": "stdout",
     "output_type": "stream",
     "text": [
      "{'status': 'success', 'detail': 'Unsubscription successful'}\n",
      "[]\n"
     ]
    }
   ],
   "source": [
    "res = requests.delete(\n",
    "    url=URL + \"/sub/product/\" + link_id,\n",
    "    headers=headers,\n",
    ")\n",
    "print(res.json())\n",
    "res = requests.get(url=URL + \"/sub/products\", headers=headers)\n",
    "print(res.json())"
   ]
  }
 ],
 "metadata": {
  "kernelspec": {
   "display_name": "env",
   "language": "python",
   "name": "python3"
  },
  "language_info": {
   "codemirror_mode": {
    "name": "ipython",
    "version": 3
   },
   "file_extension": ".py",
   "mimetype": "text/x-python",
   "name": "python",
   "nbconvert_exporter": "python",
   "pygments_lexer": "ipython3",
   "version": "3.10.12"
  }
 },
 "nbformat": 4,
 "nbformat_minor": 2
}
